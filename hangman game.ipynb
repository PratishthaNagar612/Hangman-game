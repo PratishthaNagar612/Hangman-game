{
 "cells": [
  {
   "cell_type": "code",
   "execution_count": 1,
   "id": "092aadf7",
   "metadata": {},
   "outputs": [
    {
     "name": "stdout",
     "output_type": "stream",
     "text": [
      "______\n",
      "Tries left: 6\n",
      "Guess a letter: h\n",
      "Correct!\n",
      "_h____\n",
      "Tries left: 6\n",
      "Guess a letter: j\n",
      "Wrong!\n",
      "_h____\n",
      "Tries left: 5\n",
      "Guess a letter: n\n",
      "Wrong!\n",
      "_h____\n",
      "Tries left: 4\n",
      "Guess a letter: y\n",
      "Correct!\n",
      "_h___y\n",
      "Tries left: 4\n",
      "Guess a letter: h\n",
      "Correct!\n",
      "_h___y\n",
      "Tries left: 4\n",
      "Guess a letter: n'\n",
      "Wrong!\n",
      "_h___y\n",
      "Tries left: 3\n",
      "Guess a letter: nl\n",
      "Wrong!\n",
      "_h___y\n",
      "Tries left: 2\n",
      "Guess a letter: h\n",
      "Correct!\n",
      "_h___y\n",
      "Tries left: 2\n",
      "Guess a letter: j\n",
      "Wrong!\n",
      "_h___y\n",
      "Tries left: 1\n",
      "Guess a letter: k\n",
      "Wrong!\n",
      "Sorry, you ran out of tries. The word was: cherry\n"
     ]
    }
   ],
   "source": [
    "import random\n",
    "\n",
    "words = [\"apple\", \"banana\", \"cherry\", \"durian\", \"elderberry\", \"fig\", \"grape\", \"honeydew\", \"kiwi\", \"lemon\"]\n",
    "word = random.choice(words)\n",
    "guessed = \"_\" * len(word)\n",
    "tries = 6\n",
    "\n",
    "while guessed != word and tries > 0:\n",
    "    print(guessed)\n",
    "    print(\"Tries left:\", tries)\n",
    "    guess = input(\"Guess a letter: \")\n",
    "    if guess in word:\n",
    "        print(\"Correct!\")\n",
    "        new_guessed = \"\"\n",
    "        for i in range(len(word)):\n",
    "            if guess == word[i]:\n",
    "                new_guessed += guess\n",
    "            else:\n",
    "                new_guessed += guessed[i]\n",
    "        guessed = new_guessed\n",
    "    else:\n",
    "        print(\"Wrong!\")\n",
    "        tries -= 1\n",
    "\n",
    "if guessed == word:\n",
    "    print(\"Congratulations! You guessed the word:\", word)\n",
    "else:\n",
    "    print(\"Sorry, you ran out of tries. The word was:\", word)\n"
   ]
  },
  {
   "cell_type": "code",
   "execution_count": null,
   "id": "1b463ee2",
   "metadata": {},
   "outputs": [],
   "source": []
  }
 ],
 "metadata": {
  "kernelspec": {
   "display_name": "Python 3 (ipykernel)",
   "language": "python",
   "name": "python3"
  },
  "language_info": {
   "codemirror_mode": {
    "name": "ipython",
    "version": 3
   },
   "file_extension": ".py",
   "mimetype": "text/x-python",
   "name": "python",
   "nbconvert_exporter": "python",
   "pygments_lexer": "ipython3",
   "version": "3.9.13"
  }
 },
 "nbformat": 4,
 "nbformat_minor": 5
}
